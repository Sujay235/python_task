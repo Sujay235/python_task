{
 "cells": [
  {
   "cell_type": "markdown",
   "id": "d37f80ab",
   "metadata": {},
   "source": [
    "1. Write a function called \"add_numbers\" that takes two integers as input and returns their sum.\n",
    "\n"
   ]
  },
  {
   "cell_type": "code",
   "execution_count": 1,
   "id": "a8c6105c",
   "metadata": {},
   "outputs": [
    {
     "name": "stdout",
     "output_type": "stream",
     "text": [
      "30\n"
     ]
    }
   ],
   "source": [
    "def add_numbers(a1,a2):\n",
    "    print(a1+a2)\n",
    "add_numbers(a1=16,a2=14)"
   ]
  },
  {
   "cell_type": "markdown",
   "id": "877465f2",
   "metadata": {},
   "source": [
    "2. Write a function called \"multiply_numbers\" that takes two integers as input and returns their product."
   ]
  },
  {
   "cell_type": "code",
   "execution_count": 2,
   "id": "c0e88b2e",
   "metadata": {},
   "outputs": [
    {
     "name": "stdout",
     "output_type": "stream",
     "text": [
      "50\n"
     ]
    }
   ],
   "source": [
    "def multiply_numbers(m1,m2):\n",
    "    print(m1*m2)\n",
    "multiply_numbers(5,10)"
   ]
  },
  {
   "cell_type": "markdown",
   "id": "f2bcfa47",
   "metadata": {},
   "source": [
    "3. Write a function called \"calculate_average\" that takes a list of numbers as input and returns the average of thosenumbers."
   ]
  },
  {
   "cell_type": "code",
   "execution_count": 3,
   "id": "85d98b55",
   "metadata": {},
   "outputs": [
    {
     "name": "stdout",
     "output_type": "stream",
     "text": [
      "30.0\n"
     ]
    }
   ],
   "source": [
    "val= [15,30,25,50]\n",
    "def calculate_average(a,b):\n",
    "    print(sum(val)/len(val))\n",
    "calculate_average(sum(val),len(val))"
   ]
  },
  {
   "cell_type": "markdown",
   "id": "8eab28a5",
   "metadata": {},
   "source": [
    "4. Write a function called \"is_even\" that takes an integer as input and returns True if the number is even, and False otherwise."
   ]
  },
  {
   "cell_type": "code",
   "execution_count": 4,
   "id": "6f563126",
   "metadata": {},
   "outputs": [
    {
     "name": "stdout",
     "output_type": "stream",
     "text": [
      "enter a number:: 5\n"
     ]
    },
    {
     "data": {
      "text/plain": [
       "'false,the number is odd'"
      ]
     },
     "execution_count": 4,
     "metadata": {},
     "output_type": "execute_result"
    }
   ],
   "source": [
    "def is_even():\n",
    "    d = int(input(\"enter a number:: \"))\n",
    "    if d%2==0:\n",
    "        return('true,the number is even')\n",
    "    else:\n",
    "        return('false,the number is odd')\n",
    "is_even()"
   ]
  },
  {
   "cell_type": "markdown",
   "id": "69f36bf6",
   "metadata": {},
   "source": [
    "5. Write a function called \"reverse_string\" that takes a string as input and returns the reverse of that string."
   ]
  },
  {
   "cell_type": "code",
   "execution_count": 5,
   "id": "414c3ff7",
   "metadata": {},
   "outputs": [
    {
     "name": "stdout",
     "output_type": "stream",
     "text": [
      "enter a name:: Sujay\n",
      "yajuS\n"
     ]
    }
   ],
   "source": [
    "def reverse_string():\n",
    "    a = (input(\"enter a name:: \"))\n",
    "    print(a[::-1])\n",
    "reverse_string()"
   ]
  },
  {
   "cell_type": "markdown",
   "id": "ef332027",
   "metadata": {},
   "source": [
    "6. Write a function called \"count_vowels\" that takes a string as input and returns the number of vowels (a, e, i, o, u) in that string."
   ]
  },
  {
   "cell_type": "code",
   "execution_count": 6,
   "id": "7dc00089",
   "metadata": {},
   "outputs": [
    {
     "name": "stdout",
     "output_type": "stream",
     "text": [
      "enter the string:: innomatics research labs\n",
      "number of vowels ::  8\n"
     ]
    }
   ],
   "source": [
    "vowels = [\"a\",\"e\",\"i\",\"o\",\"u\"]\n",
    "\n",
    "a=(input(\"enter the string:: \"))\n",
    "\n",
    "count=[]\n",
    "\n",
    "def count_vowels(a):\n",
    "    for i in a:\n",
    "        if i in vowels:\n",
    "            count.append(i)\n",
    "    print('number of vowels :: ',len(count))    \n",
    "count_vowels(a)"
   ]
  },
  {
   "cell_type": "markdown",
   "id": "b989d442",
   "metadata": {},
   "source": [
    "7. Write a function called \"find_max\" that takes a list of numbers as input and returns the maximum value in that list."
   ]
  },
  {
   "cell_type": "code",
   "execution_count": 7,
   "id": "9ae7fe48",
   "metadata": {},
   "outputs": [
    {
     "name": "stdout",
     "output_type": "stream",
     "text": [
      "The maximum of the list::  99.5\n"
     ]
    }
   ],
   "source": [
    "def find_max(x):\n",
    "    print(\"The maximum of the list:: \",max(x))\n",
    "find_max([25,13,65,75,99.5,31,48,55.6])"
   ]
  },
  {
   "cell_type": "markdown",
   "id": "e157b11b",
   "metadata": {},
   "source": [
    "8. Write a function called \"find_min\" that takes a list of numbers as input and returns the minimum value in that list."
   ]
  },
  {
   "cell_type": "code",
   "execution_count": 8,
   "id": "e16b5ef2",
   "metadata": {},
   "outputs": [
    {
     "name": "stdout",
     "output_type": "stream",
     "text": [
      "The minimum of the list::  13\n"
     ]
    }
   ],
   "source": [
    "def find_min(x):\n",
    "    print(\"The minimum of the list:: \",min(x))\n",
    "find_min([25,13,65,75,99.5,31,48,55.6])"
   ]
  }
 ],
 "metadata": {
  "kernelspec": {
   "display_name": "Python 3 (ipykernel)",
   "language": "python",
   "name": "python3"
  },
  "language_info": {
   "codemirror_mode": {
    "name": "ipython",
    "version": 3
   },
   "file_extension": ".py",
   "mimetype": "text/x-python",
   "name": "python",
   "nbconvert_exporter": "python",
   "pygments_lexer": "ipython3",
   "version": "3.9.7"
  }
 },
 "nbformat": 4,
 "nbformat_minor": 5
}
