{
 "cells": [
  {
   "cell_type": "markdown",
   "id": "e66ac37c",
   "metadata": {},
   "source": [
    "\n",
    "Print Numbers from 1 to N: Write a Python program that uses a for loop to print all numbers from 1 to N and substract 5from each number.where N is a positive integer entered by the user.\n",
    "\n",
    "Calculate the Sum of Numbers from 1 to N: Write a Python program that calculates and prints the sum of all numbers from 1 to N, where N is a positive integer entered by the user, using a for loop.\n",
    "\n",
    "Print Even Numbers: Write a Python program that prints all even numbers from 50 to 100 using a for loop.\n",
    "\n",
    "Reverse a String: Write a Python program that takes a string as input and uses a for loop to print the characters of the string in reverse order.\n",
    "\n",
    "Count Vowels in a String: name = \"innomatics research labs\" Write a Python program uses a for loop to count the number of vowels (a, e, i, o, u) in the string. Ignore case sensitivity.\n",
    "\n",
    "Generate a Multiplication Table: Write a Python program that generates and prints the multiplication table for 6.\n",
    "\n",
    " "
   ]
  },
  {
   "cell_type": "code",
   "execution_count": null,
   "id": "8edaa016",
   "metadata": {},
   "outputs": [],
   "source": []
  },
  {
   "cell_type": "markdown",
   "id": "423e38c7",
   "metadata": {},
   "source": [
    "# Print Numbers from 1 to N"
   ]
  },
  {
   "cell_type": "code",
   "execution_count": 1,
   "id": "c24085fd",
   "metadata": {},
   "outputs": [
    {
     "name": "stdout",
     "output_type": "stream",
     "text": [
      "enter the number:: 10\n",
      "-4\n",
      "-3\n",
      "-2\n",
      "-1\n",
      "0\n",
      "1\n",
      "2\n",
      "3\n",
      "4\n"
     ]
    }
   ],
   "source": [
    "N = int(input('enter the number:: '))\n",
    "for i in range(1,N):\n",
    "    print(i -5)"
   ]
  },
  {
   "cell_type": "markdown",
   "id": "79ebfdf8",
   "metadata": {},
   "source": [
    "# Calculate the sum of numbers from 1 to N"
   ]
  },
  {
   "cell_type": "code",
   "execution_count": 2,
   "id": "db66a0ea",
   "metadata": {},
   "outputs": [
    {
     "name": "stdout",
     "output_type": "stream",
     "text": [
      "enter the number:: 15\n"
     ]
    }
   ],
   "source": [
    "n = int(input(\"enter the number:: \"))\n",
    "total = 0\n",
    "for i in range(1,n):\n",
    "    total = total + i"
   ]
  },
  {
   "cell_type": "code",
   "execution_count": 3,
   "id": "4a46c50b",
   "metadata": {},
   "outputs": [
    {
     "data": {
      "text/plain": [
       "105"
      ]
     },
     "execution_count": 3,
     "metadata": {},
     "output_type": "execute_result"
    }
   ],
   "source": [
    "total"
   ]
  },
  {
   "cell_type": "markdown",
   "id": "4285e76a",
   "metadata": {},
   "source": [
    "# print even numbers"
   ]
  },
  {
   "cell_type": "code",
   "execution_count": 4,
   "id": "74633bb4",
   "metadata": {},
   "outputs": [
    {
     "name": "stdout",
     "output_type": "stream",
     "text": [
      "50\n",
      "52\n",
      "54\n",
      "56\n",
      "58\n",
      "60\n",
      "62\n",
      "64\n",
      "66\n",
      "68\n",
      "70\n",
      "72\n",
      "74\n",
      "76\n",
      "78\n",
      "80\n",
      "82\n",
      "84\n",
      "86\n",
      "88\n",
      "90\n",
      "92\n",
      "94\n",
      "96\n",
      "98\n"
     ]
    }
   ],
   "source": [
    "num = list(range(50,100))\n",
    "for i in num:\n",
    "    if i % 2 == 0:\n",
    "        print(i)"
   ]
  },
  {
   "cell_type": "markdown",
   "id": "d8d22d85",
   "metadata": {},
   "source": [
    "# reverse a string"
   ]
  },
  {
   "cell_type": "code",
   "execution_count": 6,
   "id": "fa0772a9",
   "metadata": {},
   "outputs": [
    {
     "name": "stdout",
     "output_type": "stream",
     "text": [
      "enter the name:: sujay kumar\n",
      "r\n",
      "a\n",
      "m\n",
      "u\n",
      "k\n",
      " \n",
      "y\n",
      "a\n",
      "j\n",
      "u\n"
     ]
    }
   ],
   "source": [
    "abc = str(input(\"enter the name:: \"))\n",
    "for i in abc[-1:0:-1]:\n",
    "    print(i)"
   ]
  },
  {
   "cell_type": "markdown",
   "id": "8f23981b",
   "metadata": {},
   "source": [
    "# Count Vowels in a String\n"
   ]
  },
  {
   "cell_type": "code",
   "execution_count": 42,
   "id": "b7b08638",
   "metadata": {},
   "outputs": [
    {
     "name": "stdout",
     "output_type": "stream",
     "text": [
      "i\n",
      "o\n",
      "a\n",
      "i\n",
      "e\n",
      "e\n",
      "a\n",
      "a\n"
     ]
    }
   ],
   "source": [
    "alph= (\"innomatics research labs\")\n",
    "for i in alph:\n",
    "    if i in (('a','e','i','o','u')):\n",
    "        print(i)\n",
    "        \n",
    "        \n",
    "        \n",
    "        # how to use count function"
   ]
  },
  {
   "cell_type": "markdown",
   "id": "5475b1d8",
   "metadata": {},
   "source": [
    "# Generate a Multiplication Table:"
   ]
  },
  {
   "cell_type": "code",
   "execution_count": 39,
   "id": "f144db6c",
   "metadata": {},
   "outputs": [
    {
     "name": "stdout",
     "output_type": "stream",
     "text": [
      "Table number:: 10\n",
      "5 * 1 = 5\n",
      "5 * 2 = 10\n",
      "5 * 3 = 15\n",
      "5 * 4 = 20\n",
      "5 * 5 = 25\n",
      "5 * 6 = 30\n",
      "5 * 7 = 35\n",
      "5 * 8 = 40\n",
      "5 * 9 = 45\n",
      "5 * 10 = 50\n"
     ]
    }
   ],
   "source": [
    "n = 5\n",
    "num = int(input(\"Table number:: \"))\n",
    "for i in range(1,num+1):\n",
    "    mul = i * n\n",
    "    print(f\"{n} * {i} = {mul}\")"
   ]
  },
  {
   "cell_type": "code",
   "execution_count": null,
   "id": "b1ff46ab",
   "metadata": {},
   "outputs": [],
   "source": []
  }
 ],
 "metadata": {
  "kernelspec": {
   "display_name": "Python 3 (ipykernel)",
   "language": "python",
   "name": "python3"
  },
  "language_info": {
   "codemirror_mode": {
    "name": "ipython",
    "version": 3
   },
   "file_extension": ".py",
   "mimetype": "text/x-python",
   "name": "python",
   "nbconvert_exporter": "python",
   "pygments_lexer": "ipython3",
   "version": "3.9.7"
  }
 },
 "nbformat": 4,
 "nbformat_minor": 5
}
