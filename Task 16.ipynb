{
 "cells": [
  {
   "cell_type": "markdown",
   "id": "e342bdfb",
   "metadata": {},
   "source": [
    "## Task 1:\n",
    "\n",
    "## Load the file 'about_python.txt'into your jupyter notebook. \n",
    "a. Correct wrong statements about python fatures \n",
    "\n",
    "b. How many charactaers present in the data \n",
    "\n",
    "c. How many times 'Python' word is repeated. \n",
    "\n",
    "d. after correcting all ..print complete valid features of the python."
   ]
  },
  {
   "cell_type": "markdown",
   "id": "e464933f",
   "metadata": {},
   "source": [
    "### Correct wrong statements "
   ]
  },
  {
   "cell_type": "code",
   "execution_count": 1,
   "id": "4116972e",
   "metadata": {},
   "outputs": [],
   "source": [
    "file = open(\"C:\\\\Users\\\\Admin\\\\AA Innomatics\\\\Batch 251 - 252\\\\about_python.txt\",\"r\")"
   ]
  },
  {
   "cell_type": "code",
   "execution_count": 2,
   "id": "daffdb0c",
   "metadata": {},
   "outputs": [],
   "source": [
    "line = file.read()"
   ]
  },
  {
   "cell_type": "code",
   "execution_count": 3,
   "id": "bd461f52",
   "metadata": {},
   "outputs": [],
   "source": [
    "line1 = line.replace(\"concepts\",\"language\")"
   ]
  },
  {
   "cell_type": "code",
   "execution_count": 4,
   "id": "bd1af1bf",
   "metadata": {},
   "outputs": [],
   "source": [
    "line2 = line1.replace(\"compiled\",\"interpreted\")\n",
    "line3 = line2.replace(\"paid\",\"unpaid\")\n",
    "line4 = line3.replace(\"statically\",\"dynamic\")\n",
    "line5 = line4.replace(\"double\",\"single and double\")\n",
    "line6 = line5.replace(\"web development\",\"web development, software development and web scraping\")\n",
    "line7 = line6.replace(\"Elon Musk\",\"Guido van Rossum\")"
   ]
  },
  {
   "cell_type": "code",
   "execution_count": 5,
   "id": "c2d9143b",
   "metadata": {},
   "outputs": [],
   "source": [
    "file = open(\"C:\\\\Users\\\\Admin\\\\AA Innomatics\\\\Batch 251 - 252\\\\about_python.txt\",\"w\")"
   ]
  },
  {
   "cell_type": "code",
   "execution_count": 6,
   "id": "be4c8a59",
   "metadata": {},
   "outputs": [
    {
     "data": {
      "text/plain": [
       "463"
      ]
     },
     "execution_count": 6,
     "metadata": {},
     "output_type": "execute_result"
    }
   ],
   "source": [
    "file.write(line)"
   ]
  },
  {
   "cell_type": "code",
   "execution_count": 7,
   "id": "a795e540",
   "metadata": {},
   "outputs": [],
   "source": [
    "file.close()"
   ]
  },
  {
   "cell_type": "markdown",
   "id": "04ad7253",
   "metadata": {},
   "source": [
    "### Length of the given string"
   ]
  },
  {
   "cell_type": "code",
   "execution_count": 8,
   "id": "ded1d26d",
   "metadata": {},
   "outputs": [
    {
     "data": {
      "text/plain": [
       "463"
      ]
     },
     "execution_count": 8,
     "metadata": {},
     "output_type": "execute_result"
    }
   ],
   "source": [
    "len(line) # b"
   ]
  },
  {
   "cell_type": "markdown",
   "id": "92a65903",
   "metadata": {},
   "source": [
    "### Number of times python repeated"
   ]
  },
  {
   "cell_type": "code",
   "execution_count": 9,
   "id": "2359e430",
   "metadata": {
    "scrolled": true
   },
   "outputs": [
    {
     "data": {
      "text/plain": [
       "9"
      ]
     },
     "execution_count": 9,
     "metadata": {},
     "output_type": "execute_result"
    }
   ],
   "source": [
    "line.count(\"Python\") "
   ]
  },
  {
   "cell_type": "markdown",
   "id": "fb50e1c9",
   "metadata": {},
   "source": [
    "### After replacement print the complete"
   ]
  },
  {
   "cell_type": "code",
   "execution_count": 10,
   "id": "010d7232",
   "metadata": {},
   "outputs": [],
   "source": [
    "file = open(\"C:\\\\Users\\\\Admin\\\\AA Innomatics\\\\Batch 251 - 252\\\\about_python.txt\",\"r\")"
   ]
  },
  {
   "cell_type": "code",
   "execution_count": 11,
   "id": "4bbb2eb2",
   "metadata": {},
   "outputs": [
    {
     "name": "stdout",
     "output_type": "stream",
     "text": [
      "Python supports object-oriented programming (OOP) language.\n",
      "Python is a interpreted language.\n",
      "Python has a rich ecosystem of third-party libraries.\n",
      "Python is a unpaid programming language\n",
      "Python uses indentation for code block structuring.\n",
      "Python is dynamic Typed Language\n",
      "Python only supports single and double quotes for string literals.\n",
      "Python can only be used for web development, software development and web scraping.\n",
      "Python was created by Guido van Rossum.\n"
     ]
    }
   ],
   "source": [
    "print(file.read())"
   ]
  },
  {
   "cell_type": "markdown",
   "id": "f2aed7de",
   "metadata": {},
   "source": [
    "## Task2:\n",
    "\n",
    "## Create a file 'File.txt'which explains python file handling whatever you have learnt today(creating,reading,writing and appending...etc) in detail.\n",
    "## That reaload the saved file(i.e File.txt) to jupyter notebook."
   ]
  },
  {
   "cell_type": "code",
   "execution_count": 12,
   "id": "4fbbe50e",
   "metadata": {},
   "outputs": [],
   "source": [
    "new = open(\"File.txt\",\"w\")"
   ]
  },
  {
   "cell_type": "code",
   "execution_count": 13,
   "id": "0586628f",
   "metadata": {},
   "outputs": [],
   "source": [
    "new.writelines(\"Handling file:\\n 1. Create ==> 'x' \\n it is used to create a new file by giving a => file name = open('filename','x')\\n 2. Read ==> 'r'\\n it is used only to read the data present in the text file\\n 3. Write ==> 'w'\\n it is used to write in the file\")\n",
    "new.close()"
   ]
  },
  {
   "cell_type": "code",
   "execution_count": 14,
   "id": "593a6735",
   "metadata": {},
   "outputs": [],
   "source": [
    "new = open(\"File.txt\",\"a\")"
   ]
  },
  {
   "cell_type": "code",
   "execution_count": 15,
   "id": "6472b2fc",
   "metadata": {},
   "outputs": [
    {
     "data": {
      "text/plain": [
       "89"
      ]
     },
     "execution_count": 15,
     "metadata": {},
     "output_type": "execute_result"
    }
   ],
   "source": [
    "new.write(\"\\n4. Close -\\n after writing the data in the opened file we should end with the close file\\n\")"
   ]
  },
  {
   "cell_type": "code",
   "execution_count": 16,
   "id": "8928cb3c",
   "metadata": {},
   "outputs": [],
   "source": [
    "new.close()"
   ]
  },
  {
   "cell_type": "code",
   "execution_count": 17,
   "id": "d0bcef82",
   "metadata": {},
   "outputs": [],
   "source": [
    "new = open(\"File.txt\",\"r\")"
   ]
  },
  {
   "cell_type": "code",
   "execution_count": 18,
   "id": "b67dea54",
   "metadata": {},
   "outputs": [
    {
     "name": "stdout",
     "output_type": "stream",
     "text": [
      "Handling file:\n",
      " 1. Create ==> 'x' \n",
      " it is used to create a new file by giving a => file name = open('filename','x')\n",
      " 2. Read ==> 'r'\n",
      " it is used only to read the data present in the text file\n",
      " 3. Write ==> 'w'\n",
      " it is used to write in the file\n",
      "4. Close -\n",
      " after writing the data in the opened file we should end with the close file\n",
      "\n"
     ]
    }
   ],
   "source": [
    "print(new.read())"
   ]
  },
  {
   "cell_type": "code",
   "execution_count": 19,
   "id": "f6dd5388",
   "metadata": {},
   "outputs": [],
   "source": [
    "new = open(\"File.txt\",\"a\")"
   ]
  },
  {
   "cell_type": "code",
   "execution_count": 20,
   "id": "323eb182",
   "metadata": {},
   "outputs": [],
   "source": [
    "new.writelines(\"\\n 5. Append ==> 'a'\\n it is used to add the data at the end of the present data in the file it is called append\\n\\n 6. Open = it is used to open the file which is present in the given path file\")\n",
    "new.close()"
   ]
  },
  {
   "cell_type": "code",
   "execution_count": 21,
   "id": "b87916ed",
   "metadata": {},
   "outputs": [],
   "source": [
    "new = open(\"File.txt\",\"r\")"
   ]
  },
  {
   "cell_type": "code",
   "execution_count": 22,
   "id": "ed652365",
   "metadata": {},
   "outputs": [
    {
     "name": "stdout",
     "output_type": "stream",
     "text": [
      "Handling file:\n",
      " 1. Create ==> 'x' \n",
      " it is used to create a new file by giving a => file name = open('filename','x')\n",
      " 2. Read ==> 'r'\n",
      " it is used only to read the data present in the text file\n",
      " 3. Write ==> 'w'\n",
      " it is used to write in the file\n",
      "4. Close -\n",
      " after writing the data in the opened file we should end with the close file\n",
      "\n",
      " 5. Append ==> 'a'\n",
      " it is used to add the data at the end of the present data in the file it is called append\n",
      "\n",
      " 6. Open = it is used to open the file which is present in the given path file\n"
     ]
    }
   ],
   "source": [
    "print(new.read())"
   ]
  }
 ],
 "metadata": {
  "kernelspec": {
   "display_name": "Python 3 (ipykernel)",
   "language": "python",
   "name": "python3"
  },
  "language_info": {
   "codemirror_mode": {
    "name": "ipython",
    "version": 3
   },
   "file_extension": ".py",
   "mimetype": "text/x-python",
   "name": "python",
   "nbconvert_exporter": "python",
   "pygments_lexer": "ipython3",
   "version": "3.11.4"
  }
 },
 "nbformat": 4,
 "nbformat_minor": 5
}
