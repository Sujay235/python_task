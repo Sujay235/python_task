{
 "cells": [
  {
   "cell_type": "markdown",
   "id": "ec199810",
   "metadata": {},
   "source": [
    "1. Write a program that calculates the sum, difference, product, and quotient of two numbers: 10 and 5."
   ]
  },
  {
   "cell_type": "code",
   "execution_count": 1,
   "id": "9ee7498e",
   "metadata": {},
   "outputs": [
    {
     "data": {
      "text/plain": [
       "15"
      ]
     },
     "execution_count": 1,
     "metadata": {},
     "output_type": "execute_result"
    }
   ],
   "source": [
    "a = 10\n",
    "b = 5\n",
    "sum = a + b # addition\n",
    "sum"
   ]
  },
  {
   "cell_type": "code",
   "execution_count": 2,
   "id": "00f59c14",
   "metadata": {},
   "outputs": [
    {
     "data": {
      "text/plain": [
       "5"
      ]
     },
     "execution_count": 2,
     "metadata": {},
     "output_type": "execute_result"
    }
   ],
   "source": [
    "diff = a - b # difference - subtraction\n",
    "diff"
   ]
  },
  {
   "cell_type": "code",
   "execution_count": 3,
   "id": "e91c21f7",
   "metadata": {},
   "outputs": [
    {
     "data": {
      "text/plain": [
       "50"
      ]
     },
     "execution_count": 3,
     "metadata": {},
     "output_type": "execute_result"
    }
   ],
   "source": [
    "pro = a * b # multiply ( product )\n",
    "pro"
   ]
  },
  {
   "cell_type": "code",
   "execution_count": 4,
   "id": "273e91cc",
   "metadata": {},
   "outputs": [
    {
     "data": {
      "text/plain": [
       "2"
      ]
     },
     "execution_count": 4,
     "metadata": {},
     "output_type": "execute_result"
    }
   ],
   "source": [
    "quo = a // b #  Division ( quotient )\n",
    "quo"
   ]
  },
  {
   "cell_type": "code",
   "execution_count": null,
   "id": "f8bc34c6",
   "metadata": {},
   "outputs": [],
   "source": []
  },
  {
   "cell_type": "markdown",
   "id": "f8cd1b47",
   "metadata": {},
   "source": [
    "2. Create a program that calculates the area of a circle with a radius of 4.5 units."
   ]
  },
  {
   "cell_type": "code",
   "execution_count": 5,
   "id": "b28d1633",
   "metadata": {},
   "outputs": [
    {
     "data": {
      "text/plain": [
       "70.875"
      ]
     },
     "execution_count": 5,
     "metadata": {},
     "output_type": "execute_result"
    }
   ],
   "source": [
    "pi = 3.5\n",
    "r = 4.5\n",
    "area = pi * r ** 2\n",
    "area"
   ]
  },
  {
   "cell_type": "markdown",
   "id": "21e486b0",
   "metadata": {},
   "source": [
    "* Write a program that swaps the values of two variables: x with a value of 5 and \"y\" with a value of 10.\n"
   ]
  },
  {
   "cell_type": "code",
   "execution_count": 6,
   "id": "cb7aae99",
   "metadata": {},
   "outputs": [
    {
     "name": "stdout",
     "output_type": "stream",
     "text": [
      "x::  10\n",
      "y::  5\n"
     ]
    }
   ],
   "source": [
    "x = 5\n",
    "y = 10\n",
    "temp = x\n",
    "x = y\n",
    "y = temp\n",
    "print(\"x:: \", x)\n",
    "print(\"y:: \", y)"
   ]
  },
  {
   "cell_type": "markdown",
   "id": "a15ef2fa",
   "metadata": {},
   "source": [
    "* Create a program that calculates compound interest for a principal amount of $1000, an interest rate of 5%, and a time period of 3 years."
   ]
  },
  {
   "cell_type": "code",
   "execution_count": 7,
   "id": "859188c3",
   "metadata": {},
   "outputs": [
    {
     "data": {
      "text/plain": [
       "157.62500000000023"
      ]
     },
     "execution_count": 7,
     "metadata": {},
     "output_type": "execute_result"
    }
   ],
   "source": [
    "p = 1000 # pricipal amount\n",
    "i = 5 # rate of interest %\n",
    "t = 3 # time period\n",
    "ta = p*(1+(i/100))**t # total amount\n",
    "ci = ta - p # compound interest\n",
    "ci\n",
    "# A = P(1 + \\frac{r}{n})^{nt}"
   ]
  },
  {
   "cell_type": "markdown",
   "id": "960aedbd",
   "metadata": {},
   "source": [
    "* Write a program that compares two numbers: 7 and 12, and determines whether the first number is greater than, less than, or equal to the second number."
   ]
  },
  {
   "cell_type": "code",
   "execution_count": 8,
   "id": "d782d84c",
   "metadata": {},
   "outputs": [],
   "source": [
    "a = 7\n",
    "b = 12"
   ]
  },
  {
   "cell_type": "code",
   "execution_count": 9,
   "id": "27a8bd80",
   "metadata": {},
   "outputs": [
    {
     "data": {
      "text/plain": [
       "False"
      ]
     },
     "execution_count": 9,
     "metadata": {},
     "output_type": "execute_result"
    }
   ],
   "source": [
    "a > b"
   ]
  },
  {
   "cell_type": "code",
   "execution_count": 10,
   "id": "52e43a42",
   "metadata": {},
   "outputs": [
    {
     "data": {
      "text/plain": [
       "True"
      ]
     },
     "execution_count": 10,
     "metadata": {},
     "output_type": "execute_result"
    }
   ],
   "source": [
    "a < b"
   ]
  },
  {
   "cell_type": "code",
   "execution_count": 11,
   "id": "d2f7081b",
   "metadata": {},
   "outputs": [
    {
     "data": {
      "text/plain": [
       "False"
      ]
     },
     "execution_count": 11,
     "metadata": {},
     "output_type": "execute_result"
    }
   ],
   "source": [
    "a >= b"
   ]
  },
  {
   "cell_type": "code",
   "execution_count": 12,
   "id": "6e5a080b",
   "metadata": {},
   "outputs": [
    {
     "data": {
      "text/plain": [
       "True"
      ]
     },
     "execution_count": 12,
     "metadata": {},
     "output_type": "execute_result"
    }
   ],
   "source": [
    "a <= b"
   ]
  },
  {
   "cell_type": "markdown",
   "id": "358528f6",
   "metadata": {},
   "source": [
    "* Create a program that checks if a person of age 18 is eligible to vote based on the voting age requirement.(True/False)"
   ]
  },
  {
   "cell_type": "code",
   "execution_count": 13,
   "id": "743c67df",
   "metadata": {},
   "outputs": [],
   "source": [
    "voter_age = 18"
   ]
  },
  {
   "cell_type": "code",
   "execution_count": 14,
   "id": "d647214f",
   "metadata": {},
   "outputs": [],
   "source": [
    "person_age = 18"
   ]
  },
  {
   "cell_type": "code",
   "execution_count": 15,
   "id": "a60feb34",
   "metadata": {},
   "outputs": [],
   "source": [
    "miner_age = 17"
   ]
  },
  {
   "cell_type": "code",
   "execution_count": 16,
   "id": "d2dad392",
   "metadata": {},
   "outputs": [
    {
     "data": {
      "text/plain": [
       "True"
      ]
     },
     "execution_count": 16,
     "metadata": {},
     "output_type": "execute_result"
    }
   ],
   "source": [
    "person_age >= voter_age"
   ]
  },
  {
   "cell_type": "code",
   "execution_count": 17,
   "id": "57e30b9f",
   "metadata": {},
   "outputs": [
    {
     "data": {
      "text/plain": [
       "False"
      ]
     },
     "execution_count": 17,
     "metadata": {},
     "output_type": "execute_result"
    }
   ],
   "source": [
    "miner_age >= voter_age"
   ]
  },
  {
   "cell_type": "markdown",
   "id": "7eb50c2d",
   "metadata": {},
   "source": [
    "* Create a Python program that calculates the area of a rectangle. \n",
    "* Prompt the user to enter the length and width of the rectangle, store them in variables, \n",
    "* and compute the area using the formula:area length width.Finally, `print the calculated area"
   ]
  },
  {
   "cell_type": "code",
   "execution_count": 18,
   "id": "90973a08",
   "metadata": {},
   "outputs": [
    {
     "name": "stdout",
     "output_type": "stream",
     "text": [
      "Enter the value of the length:: 8\n",
      "Enter the value of the width:: 9\n",
      "area of a reactangle::  72\n"
     ]
    }
   ],
   "source": [
    "length = int(input(\"Enter the value of the length:: \"))\n",
    "width = int(input(\"Enter the value of the width:: \"))\n",
    "area = length * width\n",
    "print(\"area of a reactangle:: \", area)"
   ]
  },
  {
   "cell_type": "markdown",
   "id": "31dfb05f",
   "metadata": {},
   "source": [
    "* Create a Python program that calculates the average of three exam scores. Prompt the user to enter the scores, store them in variables, calculate the average, and print the result.\n",
    "\n"
   ]
  },
  {
   "cell_type": "code",
   "execution_count": 19,
   "id": "9960490f",
   "metadata": {},
   "outputs": [
    {
     "name": "stdout",
     "output_type": "stream",
     "text": [
      "enter maths marks:: 88\n",
      "enter science marks:: 80\n",
      "enter social marks:: 90\n",
      "average of 3 exams::  86.0\n"
     ]
    }
   ],
   "source": [
    "maths = int(input(\"enter maths marks:: \"))\n",
    "science = int(input(\"enter science marks:: \"))\n",
    "social = int(input(\"enter social marks:: \"))\n",
    "average = (maths + science + social)/3 \n",
    "print(\"average of 3 exams:: \",average)"
   ]
  },
  {
   "cell_type": "markdown",
   "id": "ee206e21",
   "metadata": {},
   "source": [
    "* Write a Python program that converts temperature from Celsius to Fahrenheit. Prompt the user to enter a temperature in Celsius, store it in a variable, and convert it to Fahrenheit using the formula: Fahrenheit = (Celsius* 9/5)+32, and print the converted temperature."
   ]
  },
  {
   "cell_type": "code",
   "execution_count": 20,
   "id": "ce1afe11",
   "metadata": {},
   "outputs": [
    {
     "name": "stdout",
     "output_type": "stream",
     "text": [
      "enter the temperature:: 102.5\n",
      "temperature in fahernheut::  216.5\n"
     ]
    }
   ],
   "source": [
    "temp = float(input(\"enter the temperature:: \"))\n",
    "Fahrenheit = (temp* 9/5)+32\n",
    "print(\"temperature in fahernheut:: \",Fahrenheit)"
   ]
  },
  {
   "cell_type": "markdown",
   "id": "c0dc8673",
   "metadata": {},
   "source": [
    "* What are the logical operators in Python? Explain each one with an example.\n",
    "\n",
    "# Logical operator --> AND, OR, NOT"
   ]
  },
  {
   "attachments": {
    "image.png": {
     "image/png": "[encoded data removed]"
    }
   },
   "cell_type": "markdown",
   "id": "5c21f752",
   "metadata": {},
   "source": [
    "![image.png](attachment:image.png)"
   ]
  },
  {
   "cell_type": "code",
   "execution_count": 21,
   "id": "33e9882b",
   "metadata": {},
   "outputs": [],
   "source": [
    "a = 20\n",
    "b = 30"
   ]
  },
  {
   "cell_type": "code",
   "execution_count": 22,
   "id": "d786c6dd",
   "metadata": {},
   "outputs": [
    {
     "data": {
      "text/plain": [
       "False"
      ]
     },
     "execution_count": 22,
     "metadata": {},
     "output_type": "execute_result"
    }
   ],
   "source": [
    "(a > b) and (a < b)   # And operator 0 - 1 --> false"
   ]
  },
  {
   "cell_type": "code",
   "execution_count": 23,
   "id": "d3b7b367",
   "metadata": {},
   "outputs": [
    {
     "data": {
      "text/plain": [
       "True"
      ]
     },
     "execution_count": 23,
     "metadata": {},
     "output_type": "execute_result"
    }
   ],
   "source": [
    "(a == b) or (a < b) # or operator"
   ]
  },
  {
   "cell_type": "code",
   "execution_count": 24,
   "id": "e916902c",
   "metadata": {},
   "outputs": [
    {
     "data": {
      "text/plain": [
       "True"
      ]
     },
     "execution_count": 24,
     "metadata": {},
     "output_type": "execute_result"
    }
   ],
   "source": [
    "(a < b) # not "
   ]
  },
  {
   "cell_type": "code",
   "execution_count": 25,
   "id": "8084abff",
   "metadata": {},
   "outputs": [
    {
     "data": {
      "text/plain": [
       "False"
      ]
     },
     "execution_count": 25,
     "metadata": {},
     "output_type": "execute_result"
    }
   ],
   "source": [
    "not a < b # not operator"
   ]
  },
  {
   "cell_type": "markdown",
   "id": "3c539add",
   "metadata": {},
   "source": [
    "* What are the membership operators in Python? Explain their usage with examples"
   ]
  },
  {
   "cell_type": "code",
   "execution_count": 26,
   "id": "67816223",
   "metadata": {},
   "outputs": [],
   "source": [
    "house = (\"raju and praveen are playing at home because it was holiday\")"
   ]
  },
  {
   "cell_type": "code",
   "execution_count": 27,
   "id": "df739ed7",
   "metadata": {},
   "outputs": [
    {
     "data": {
      "text/plain": [
       "True"
      ]
     },
     "execution_count": 27,
     "metadata": {},
     "output_type": "execute_result"
    }
   ],
   "source": [
    "\"raju\" in house"
   ]
  },
  {
   "cell_type": "code",
   "execution_count": 28,
   "id": "126c1433",
   "metadata": {},
   "outputs": [
    {
     "data": {
      "text/plain": [
       "False"
      ]
     },
     "execution_count": 28,
     "metadata": {},
     "output_type": "execute_result"
    }
   ],
   "source": [
    "\"praveen\" not in house"
   ]
  },
  {
   "cell_type": "code",
   "execution_count": 29,
   "id": "86e2b49e",
   "metadata": {},
   "outputs": [
    {
     "data": {
      "text/plain": [
       "False"
      ]
     },
     "execution_count": 29,
     "metadata": {},
     "output_type": "execute_result"
    }
   ],
   "source": [
    "\"ajay\" in house"
   ]
  },
  {
   "cell_type": "markdown",
   "id": "2644f7a6",
   "metadata": {},
   "source": [
    "###### the given string characters which are given \n",
    "######  it gives the boolean o/p if the character is present \"in\" and \"not in\""
   ]
  },
  {
   "cell_type": "code",
   "execution_count": null,
   "id": "9d8e58e3",
   "metadata": {},
   "outputs": [],
   "source": []
  },
  {
   "cell_type": "code",
   "execution_count": null,
   "id": "6cff9ebc",
   "metadata": {},
   "outputs": [],
   "source": []
  },
  {
   "cell_type": "markdown",
   "id": "2a7c4a2c",
   "metadata": {},
   "source": [
    "* Write a Python code snippet that assigns a value to a variable and determines its data type using the type() function."
   ]
  },
  {
   "cell_type": "code",
   "execution_count": 30,
   "id": "eceec962",
   "metadata": {},
   "outputs": [
    {
     "data": {
      "text/plain": [
       "int"
      ]
     },
     "execution_count": 30,
     "metadata": {},
     "output_type": "execute_result"
    }
   ],
   "source": [
    "a = 25\n",
    "type(a)"
   ]
  },
  {
   "cell_type": "code",
   "execution_count": 31,
   "id": "31ba05ce",
   "metadata": {},
   "outputs": [
    {
     "data": {
      "text/plain": [
       "str"
      ]
     },
     "execution_count": 31,
     "metadata": {},
     "output_type": "execute_result"
    }
   ],
   "source": [
    "b = \"sujay\"\n",
    "type(b)"
   ]
  },
  {
   "cell_type": "code",
   "execution_count": 32,
   "id": "c62e7cfd",
   "metadata": {},
   "outputs": [
    {
     "data": {
      "text/plain": [
       "float"
      ]
     },
     "execution_count": 32,
     "metadata": {},
     "output_type": "execute_result"
    }
   ],
   "source": [
    "c = 10.5\n",
    "type(c)"
   ]
  }
 ],
 "metadata": {
  "kernelspec": {
   "display_name": "Python 3 (ipykernel)",
   "language": "python",
   "name": "python3"
  },
  "language_info": {
   "codemirror_mode": {
    "name": "ipython",
    "version": 3
   },
   "file_extension": ".py",
   "mimetype": "text/x-python",
   "name": "python",
   "nbconvert_exporter": "python",
   "pygments_lexer": "ipython3",
   "version": "3.11.4"
  }
 },
 "nbformat": 4,
 "nbformat_minor": 5
}
